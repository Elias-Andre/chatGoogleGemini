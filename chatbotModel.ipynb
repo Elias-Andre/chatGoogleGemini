{
  "nbformat": 4,
  "nbformat_minor": 0,
  "metadata": {
    "colab": {
      "provenance": [],
      "authorship_tag": "ABX9TyMqfMLnBhE379PJd4ITcDfD",
      "include_colab_link": true
    },
    "kernelspec": {
      "name": "python3",
      "display_name": "Python 3"
    },
    "language_info": {
      "name": "python"
    }
  },
  "cells": [
    {
      "cell_type": "markdown",
      "metadata": {
        "id": "view-in-github",
        "colab_type": "text"
      },
      "source": [
        "<a href=\"https://colab.research.google.com/github/Elias-Andre/chatGoogleGemini/blob/main/chatbotModel.ipynb\" target=\"_parent\"><img src=\"https://colab.research.google.com/assets/colab-badge.svg\" alt=\"Open In Colab\"/></a>"
      ]
    },
    {
      "cell_type": "markdown",
      "source": [
        "<h1>SDK Install<h1>"
      ],
      "metadata": {
        "id": "t2kBeG_A5lUI"
      }
    },
    {
      "cell_type": "code",
      "execution_count": 2,
      "metadata": {
        "id": "ZGZChZ-B5M7b"
      },
      "outputs": [],
      "source": [
        "!pip install -q -U google-generativeai\n"
      ]
    },
    {
      "cell_type": "markdown",
      "source": [
        "<h1>Set up API key<h1>"
      ],
      "metadata": {
        "id": "CpQ4V0WM5kg3"
      }
    },
    {
      "cell_type": "code",
      "source": [
        "import google.generativeai as genai\n",
        "\n",
        "GOOGLE_API_KEY='------'\n",
        "genai.configure(api_key=GOOGLE_API_KEY)"
      ],
      "metadata": {
        "id": "4xSb3jzD5iyP"
      },
      "execution_count": 3,
      "outputs": []
    },
    {
      "cell_type": "markdown",
      "source": [
        "<h1>Model configs<h1>"
      ],
      "metadata": {
        "id": "HZKVNjh67c4i"
      }
    },
    {
      "cell_type": "code",
      "source": [
        "generation_config = {\n",
        "    #'candidateCount': 1,\n",
        "    'temperature': 0.5,\n",
        "    #temperature (0-1)\n",
        "    #top_p (0-1)\n",
        "    #top_k(0-1)\n",
        "}"
      ],
      "metadata": {
        "id": "UJvv-n-Y7dRs"
      },
      "execution_count": 23,
      "outputs": []
    },
    {
      "cell_type": "markdown",
      "source": [
        "<h1>Safety settings<h1>"
      ],
      "metadata": {
        "id": "aSPa2BlCxiUp"
      }
    },
    {
      "cell_type": "code",
      "source": [
        "safety_settings = {\n",
        "    'HARASSMENT': \"BLOCK_NONE\",\n",
        "    'HATE': 'BLOCK_NONE',\n",
        "    'SEXUAL': 'BLOCK_NONE',\n",
        "    'DANGEROUS': 'BLOCK_NONE',\n",
        "\n",
        "\n",
        "}\n",
        "#Options: Harassment, Hate, Sexually Explicit and Dangerous Content\n",
        "#BLOCK_NONE, BLOCK_FEW, BLOCK_SOME, BLOCK_MOST"
      ],
      "metadata": {
        "id": "xdI7LAIjxpiA"
      },
      "execution_count": 24,
      "outputs": []
    },
    {
      "cell_type": "markdown",
      "source": [
        "<h1>Model version<h1>"
      ],
      "metadata": {
        "id": "mba6aAwau-A5"
      }
    },
    {
      "cell_type": "code",
      "source": [
        "for m in genai.list_models():\n",
        "  if 'generateContent' in m.supported_generation_methods:\n",
        "    print(m.name)"
      ],
      "metadata": {
        "colab": {
          "base_uri": "https://localhost:8080/",
          "height": 139
        },
        "id": "1K3G7PwOu9ZD",
        "outputId": "3fb27a06-434d-4b56-ef73-493f7b566684"
      },
      "execution_count": 25,
      "outputs": [
        {
          "output_type": "stream",
          "name": "stdout",
          "text": [
            "models/gemini-1.0-pro\n",
            "models/gemini-1.0-pro-001\n",
            "models/gemini-1.0-pro-latest\n",
            "models/gemini-1.0-pro-vision-latest\n",
            "models/gemini-1.5-pro-latest\n",
            "models/gemini-pro\n",
            "models/gemini-pro-vision\n"
          ]
        }
      ]
    },
    {
      "cell_type": "markdown",
      "source": [
        "<h1>Choosing model<h1>\n"
      ],
      "metadata": {
        "id": "9VHc8zuy6-lX"
      }
    },
    {
      "cell_type": "code",
      "source": [
        "model = genai.GenerativeModel('gemini-1.0-pro-latest',\n",
        "                              generation_config=generation_config,\n",
        "                              safety_settings=safety_settings)"
      ],
      "metadata": {
        "id": "SXn7HevR7JI9"
      },
      "execution_count": 26,
      "outputs": []
    },
    {
      "cell_type": "markdown",
      "source": [
        "<h1>Testing Model<h1>"
      ],
      "metadata": {
        "id": "w4CSAKbezvPF"
      }
    },
    {
      "cell_type": "code",
      "source": [
        "response = model.generate_content()\n",
        "print(response.text)"
      ],
      "metadata": {
        "id": "uIyhWnTpzuvR"
      },
      "execution_count": null,
      "outputs": []
    },
    {
      "cell_type": "markdown",
      "source": [
        "<h1>Chat<h1>"
      ],
      "metadata": {
        "id": "-gFtLDOY1cAG"
      }
    },
    {
      "cell_type": "code",
      "source": [
        "chat = model.start_chat(history=[])"
      ],
      "metadata": {
        "id": "BB1LSFrU1fHA"
      },
      "execution_count": 27,
      "outputs": []
    },
    {
      "cell_type": "markdown",
      "source": [
        "<h1>Input"
      ],
      "metadata": {
        "id": "_IaJwZv513Sh"
      }
    },
    {
      "cell_type": "code",
      "source": [
        "prompt = input('Esperando prompt: ')\n",
        "\n",
        "while prompt != 'fim':\n",
        "  response = chat.send_message(prompt)\n",
        "  print('Resposta: ', response.text,'\\n')\n",
        "  prompt = input('Esperando prompt: ')"
      ],
      "metadata": {
        "colab": {
          "base_uri": "https://localhost:8080/",
          "height": 86
        },
        "id": "33iLJSIq12tG",
        "outputId": "b06a0a94-e87c-44ff-9ee4-b385425b8cd5"
      },
      "execution_count": 28,
      "outputs": [
        {
          "name": "stdout",
          "output_type": "stream",
          "text": [
            "Esperando prompt: Qual é a capital do Japão?\n",
            "Resposta:  Tóquio \n",
            "\n",
            "Esperando prompt: fim\n"
          ]
        }
      ]
    }
  ]
}